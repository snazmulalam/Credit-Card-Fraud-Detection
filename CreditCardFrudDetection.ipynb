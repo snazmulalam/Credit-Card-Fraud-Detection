{
 "cells": [
  {
   "cell_type": "code",
   "execution_count": 1,
   "id": "e30c38b5-1fb9-4887-94dd-bdfba3fa9acc",
   "metadata": {},
   "outputs": [],
   "source": [
    "import pandas as pd\n",
    "import matplotlib.pyplot as plt\n",
    "import numpy as np\n",
    "import seaborn as sns\n",
    "import pickle\n",
    "\n",
    "from sklearn.model_selection import train_test_split\n",
    "from sklearn.metrics import accuracy_score, precision_score, f1_score, recall_score\n",
    "from sklearn.preprocessing import LabelEncoder\n",
    "from sklearn.decomposition import PCA\n",
    "from sklearn.ensemble import RandomForestClassifier\n",
    "\n",
    "%matplotlib inline\n",
    "import warnings\n",
    "warnings.filterwarnings('ignore')"
   ]
  },
  {
   "cell_type": "markdown",
   "id": "a12775de-e3e4-477e-9670-fcaad053162e",
   "metadata": {},
   "source": [
    "### Principle Component Analysis\n",
    " 1. Dimensionality Reduction\n",
    " 2. Feature Encoding"
   ]
  },
  {
   "cell_type": "code",
   "execution_count": 2,
   "id": "83114000-47aa-4653-a64c-88408c92443e",
   "metadata": {},
   "outputs": [],
   "source": [
    "datasets_frud = pd.read_csv(\"Datasets/SyntheticFinancialDatasetForFraudDetection/train.csv\")"
   ]
  },
  {
   "cell_type": "code",
   "execution_count": 3,
   "id": "fce393b5-a06f-4fa4-81ad-4e3f6a6c8a29",
   "metadata": {},
   "outputs": [
    {
     "data": {
      "text/html": [
       "<div>\n",
       "<style scoped>\n",
       "    .dataframe tbody tr th:only-of-type {\n",
       "        vertical-align: middle;\n",
       "    }\n",
       "\n",
       "    .dataframe tbody tr th {\n",
       "        vertical-align: top;\n",
       "    }\n",
       "\n",
       "    .dataframe thead th {\n",
       "        text-align: right;\n",
       "    }\n",
       "</style>\n",
       "<table border=\"1\" class=\"dataframe\">\n",
       "  <thead>\n",
       "    <tr style=\"text-align: right;\">\n",
       "      <th></th>\n",
       "      <th>step</th>\n",
       "      <th>type</th>\n",
       "      <th>amount</th>\n",
       "      <th>nameOrig</th>\n",
       "      <th>oldbalanceOrg</th>\n",
       "      <th>newbalanceOrig</th>\n",
       "      <th>nameDest</th>\n",
       "      <th>oldbalanceDest</th>\n",
       "      <th>newbalanceDest</th>\n",
       "      <th>isFlaggedFraud</th>\n",
       "      <th>isFraud</th>\n",
       "    </tr>\n",
       "  </thead>\n",
       "  <tbody>\n",
       "    <tr>\n",
       "      <th>0</th>\n",
       "      <td>619</td>\n",
       "      <td>CASH_IN</td>\n",
       "      <td>386385.08</td>\n",
       "      <td>C421351828</td>\n",
       "      <td>4669568.85</td>\n",
       "      <td>5055953.92</td>\n",
       "      <td>C1977099364</td>\n",
       "      <td>506035.06</td>\n",
       "      <td>119649.98</td>\n",
       "      <td>0</td>\n",
       "      <td>0</td>\n",
       "    </tr>\n",
       "    <tr>\n",
       "      <th>1</th>\n",
       "      <td>164</td>\n",
       "      <td>CASH_IN</td>\n",
       "      <td>212458.78</td>\n",
       "      <td>C83569848</td>\n",
       "      <td>234635.00</td>\n",
       "      <td>447093.78</td>\n",
       "      <td>C1690589535</td>\n",
       "      <td>806037.88</td>\n",
       "      <td>593579.10</td>\n",
       "      <td>0</td>\n",
       "      <td>0</td>\n",
       "    </tr>\n",
       "    <tr>\n",
       "      <th>2</th>\n",
       "      <td>382</td>\n",
       "      <td>PAYMENT</td>\n",
       "      <td>19967.60</td>\n",
       "      <td>C852995095</td>\n",
       "      <td>3634.00</td>\n",
       "      <td>0.00</td>\n",
       "      <td>M1695416333</td>\n",
       "      <td>0.00</td>\n",
       "      <td>0.00</td>\n",
       "      <td>0</td>\n",
       "      <td>0</td>\n",
       "    </tr>\n",
       "    <tr>\n",
       "      <th>3</th>\n",
       "      <td>180</td>\n",
       "      <td>CASH_OUT</td>\n",
       "      <td>527616.51</td>\n",
       "      <td>C61761046</td>\n",
       "      <td>180216.00</td>\n",
       "      <td>0.00</td>\n",
       "      <td>C577654587</td>\n",
       "      <td>92157.10</td>\n",
       "      <td>619773.61</td>\n",
       "      <td>0</td>\n",
       "      <td>0</td>\n",
       "    </tr>\n",
       "    <tr>\n",
       "      <th>4</th>\n",
       "      <td>36</td>\n",
       "      <td>TRANSFER</td>\n",
       "      <td>206067.85</td>\n",
       "      <td>C758004147</td>\n",
       "      <td>0.00</td>\n",
       "      <td>0.00</td>\n",
       "      <td>C2143015292</td>\n",
       "      <td>2131494.48</td>\n",
       "      <td>2337562.32</td>\n",
       "      <td>0</td>\n",
       "      <td>0</td>\n",
       "    </tr>\n",
       "  </tbody>\n",
       "</table>\n",
       "</div>"
      ],
      "text/plain": [
       "   step      type     amount    nameOrig  oldbalanceOrg  newbalanceOrig  \\\n",
       "0   619   CASH_IN  386385.08  C421351828     4669568.85      5055953.92   \n",
       "1   164   CASH_IN  212458.78   C83569848      234635.00       447093.78   \n",
       "2   382   PAYMENT   19967.60  C852995095        3634.00            0.00   \n",
       "3   180  CASH_OUT  527616.51   C61761046      180216.00            0.00   \n",
       "4    36  TRANSFER  206067.85  C758004147           0.00            0.00   \n",
       "\n",
       "      nameDest  oldbalanceDest  newbalanceDest  isFlaggedFraud  isFraud  \n",
       "0  C1977099364       506035.06       119649.98               0        0  \n",
       "1  C1690589535       806037.88       593579.10               0        0  \n",
       "2  M1695416333            0.00            0.00               0        0  \n",
       "3   C577654587        92157.10       619773.61               0        0  \n",
       "4  C2143015292      2131494.48      2337562.32               0        0  "
      ]
     },
     "execution_count": 3,
     "metadata": {},
     "output_type": "execute_result"
    }
   ],
   "source": [
    "datasets_frud.head()"
   ]
  },
  {
   "cell_type": "code",
   "execution_count": 4,
   "id": "2b794389-608b-4a8f-a423-73f5bc83e618",
   "metadata": {},
   "outputs": [
    {
     "data": {
      "text/plain": [
       "Index(['step', 'type', 'amount', 'nameOrig', 'oldbalanceOrg', 'newbalanceOrig',\n",
       "       'nameDest', 'oldbalanceDest', 'newbalanceDest', 'isFlaggedFraud',\n",
       "       'isFraud'],\n",
       "      dtype='object')"
      ]
     },
     "execution_count": 4,
     "metadata": {},
     "output_type": "execute_result"
    }
   ],
   "source": [
    "datasets_frud.columns"
   ]
  },
  {
   "cell_type": "code",
   "execution_count": 5,
   "id": "e483908c-a6aa-47d7-b5ad-2ab3fc76d6ba",
   "metadata": {},
   "outputs": [
    {
     "data": {
      "text/plain": [
       "CASH_OUT    1790588\n",
       "PAYMENT     1720696\n",
       "CASH_IN     1119184\n",
       "TRANSFER     426436\n",
       "DEBIT         33192\n",
       "Name: type, dtype: int64"
      ]
     },
     "execution_count": 5,
     "metadata": {},
     "output_type": "execute_result"
    }
   ],
   "source": [
    "datasets_frud[\"type\"].value_counts()"
   ]
  },
  {
   "cell_type": "code",
   "execution_count": 6,
   "id": "a04e66c3-b675-474b-aec1-83c196aa5dd8",
   "metadata": {},
   "outputs": [
    {
     "name": "stdout",
     "output_type": "stream",
     "text": [
      "Total Number of is Flagged Fraud :5090096\n"
     ]
    }
   ],
   "source": [
    "print(\"Total Number of is Flagged Fraud :{}\".format(datasets_frud[\"isFlaggedFraud\"].value_counts().sum()))"
   ]
  },
  {
   "cell_type": "code",
   "execution_count": 7,
   "id": "408812d1-d0c7-441f-bcee-e95687085b95",
   "metadata": {},
   "outputs": [
    {
     "data": {
      "text/plain": [
       "0    5083503\n",
       "1       6593\n",
       "Name: isFraud, dtype: int64"
      ]
     },
     "execution_count": 7,
     "metadata": {},
     "output_type": "execute_result"
    }
   ],
   "source": [
    "datasets_frud[\"isFraud\"].value_counts()"
   ]
  },
  {
   "cell_type": "code",
   "execution_count": 8,
   "id": "7bcd1afd-08d2-4c2e-86e2-0fbab5624d2d",
   "metadata": {},
   "outputs": [
    {
     "data": {
      "text/plain": [
       "CASH_OUT    3305\n",
       "TRANSFER    3288\n",
       "Name: type, dtype: int64"
      ]
     },
     "execution_count": 8,
     "metadata": {},
     "output_type": "execute_result"
    }
   ],
   "source": [
    "# Figure out where our transaction faceing the fraud conditions\n",
    "datasets_frud.loc[(datasets_frud.isFraud == 1)].type.value_counts()"
   ]
  },
  {
   "cell_type": "code",
   "execution_count": 9,
   "id": "1edbe45d-74b1-4330-85e3-1f73aecf6703",
   "metadata": {},
   "outputs": [
    {
     "data": {
      "text/plain": [
       "CASH_OUT    1787283\n",
       "PAYMENT     1720696\n",
       "CASH_IN     1119184\n",
       "TRANSFER     423148\n",
       "DEBIT         33192\n",
       "Name: type, dtype: int64"
      ]
     },
     "execution_count": 9,
     "metadata": {},
     "output_type": "execute_result"
    }
   ],
   "source": [
    "# Figure out where our transaction not faceing the fraud conditions\n",
    "datasets_frud.loc[(datasets_frud.isFraud ==0)].type.value_counts()"
   ]
  },
  {
   "cell_type": "code",
   "execution_count": 10,
   "id": "35b37b65-a511-4f4f-aa3b-afa2ac7f1270",
   "metadata": {},
   "outputs": [],
   "source": [
    "fraudDatasets = datasets_frud.loc[(datasets_frud.type == \"TRANSFER\") | (datasets_frud.type == \"CASH_OUT\")] "
   ]
  },
  {
   "cell_type": "code",
   "execution_count": 11,
   "id": "f8f5bed1-37aa-41bf-8a80-11e063242add",
   "metadata": {},
   "outputs": [
    {
     "data": {
      "text/html": [
       "<div>\n",
       "<style scoped>\n",
       "    .dataframe tbody tr th:only-of-type {\n",
       "        vertical-align: middle;\n",
       "    }\n",
       "\n",
       "    .dataframe tbody tr th {\n",
       "        vertical-align: top;\n",
       "    }\n",
       "\n",
       "    .dataframe thead th {\n",
       "        text-align: right;\n",
       "    }\n",
       "</style>\n",
       "<table border=\"1\" class=\"dataframe\">\n",
       "  <thead>\n",
       "    <tr style=\"text-align: right;\">\n",
       "      <th></th>\n",
       "      <th>step</th>\n",
       "      <th>type</th>\n",
       "      <th>amount</th>\n",
       "      <th>nameOrig</th>\n",
       "      <th>oldbalanceOrg</th>\n",
       "      <th>newbalanceOrig</th>\n",
       "      <th>nameDest</th>\n",
       "      <th>oldbalanceDest</th>\n",
       "      <th>newbalanceDest</th>\n",
       "      <th>isFlaggedFraud</th>\n",
       "      <th>isFraud</th>\n",
       "    </tr>\n",
       "  </thead>\n",
       "  <tbody>\n",
       "    <tr>\n",
       "      <th>3</th>\n",
       "      <td>180</td>\n",
       "      <td>CASH_OUT</td>\n",
       "      <td>527616.51</td>\n",
       "      <td>C61761046</td>\n",
       "      <td>180216.0</td>\n",
       "      <td>0.00</td>\n",
       "      <td>C577654587</td>\n",
       "      <td>92157.10</td>\n",
       "      <td>619773.61</td>\n",
       "      <td>0</td>\n",
       "      <td>0</td>\n",
       "    </tr>\n",
       "    <tr>\n",
       "      <th>4</th>\n",
       "      <td>36</td>\n",
       "      <td>TRANSFER</td>\n",
       "      <td>206067.85</td>\n",
       "      <td>C758004147</td>\n",
       "      <td>0.0</td>\n",
       "      <td>0.00</td>\n",
       "      <td>C2143015292</td>\n",
       "      <td>2131494.48</td>\n",
       "      <td>2337562.32</td>\n",
       "      <td>0</td>\n",
       "      <td>0</td>\n",
       "    </tr>\n",
       "    <tr>\n",
       "      <th>6</th>\n",
       "      <td>10</td>\n",
       "      <td>CASH_OUT</td>\n",
       "      <td>15241.42</td>\n",
       "      <td>C1606904496</td>\n",
       "      <td>45285.0</td>\n",
       "      <td>30043.58</td>\n",
       "      <td>C36437323</td>\n",
       "      <td>355775.87</td>\n",
       "      <td>652863.91</td>\n",
       "      <td>0</td>\n",
       "      <td>0</td>\n",
       "    </tr>\n",
       "    <tr>\n",
       "      <th>10</th>\n",
       "      <td>353</td>\n",
       "      <td>CASH_OUT</td>\n",
       "      <td>460159.75</td>\n",
       "      <td>C1847016170</td>\n",
       "      <td>0.0</td>\n",
       "      <td>0.00</td>\n",
       "      <td>C1970087686</td>\n",
       "      <td>1602337.92</td>\n",
       "      <td>2062497.67</td>\n",
       "      <td>0</td>\n",
       "      <td>0</td>\n",
       "    </tr>\n",
       "    <tr>\n",
       "      <th>11</th>\n",
       "      <td>185</td>\n",
       "      <td>CASH_OUT</td>\n",
       "      <td>39570.59</td>\n",
       "      <td>C1933638935</td>\n",
       "      <td>30591.0</td>\n",
       "      <td>0.00</td>\n",
       "      <td>C977120564</td>\n",
       "      <td>0.00</td>\n",
       "      <td>39570.59</td>\n",
       "      <td>0</td>\n",
       "      <td>0</td>\n",
       "    </tr>\n",
       "  </tbody>\n",
       "</table>\n",
       "</div>"
      ],
      "text/plain": [
       "    step      type     amount     nameOrig  oldbalanceOrg  newbalanceOrig  \\\n",
       "3    180  CASH_OUT  527616.51    C61761046       180216.0            0.00   \n",
       "4     36  TRANSFER  206067.85   C758004147            0.0            0.00   \n",
       "6     10  CASH_OUT   15241.42  C1606904496        45285.0        30043.58   \n",
       "10   353  CASH_OUT  460159.75  C1847016170            0.0            0.00   \n",
       "11   185  CASH_OUT   39570.59  C1933638935        30591.0            0.00   \n",
       "\n",
       "       nameDest  oldbalanceDest  newbalanceDest  isFlaggedFraud  isFraud  \n",
       "3    C577654587        92157.10       619773.61               0        0  \n",
       "4   C2143015292      2131494.48      2337562.32               0        0  \n",
       "6     C36437323       355775.87       652863.91               0        0  \n",
       "10  C1970087686      1602337.92      2062497.67               0        0  \n",
       "11   C977120564            0.00        39570.59               0        0  "
      ]
     },
     "execution_count": 11,
     "metadata": {},
     "output_type": "execute_result"
    }
   ],
   "source": [
    "fraudDatasets.head()"
   ]
  },
  {
   "cell_type": "code",
   "execution_count": 12,
   "id": "a6468ab7-187a-4a3a-a99e-7a1d543085ad",
   "metadata": {},
   "outputs": [
    {
     "data": {
      "text/plain": [
       "CASH_OUT    1790588\n",
       "TRANSFER     426436\n",
       "Name: type, dtype: int64"
      ]
     },
     "execution_count": 12,
     "metadata": {},
     "output_type": "execute_result"
    }
   ],
   "source": [
    "fraudDatasets.type.value_counts()"
   ]
  },
  {
   "cell_type": "code",
   "execution_count": 13,
   "id": "783520cd-8b8c-41ae-8767-c7af9a699b25",
   "metadata": {},
   "outputs": [
    {
     "data": {
      "text/plain": [
       "0    2210431\n",
       "1       6593\n",
       "Name: isFraud, dtype: int64"
      ]
     },
     "execution_count": 13,
     "metadata": {},
     "output_type": "execute_result"
    }
   ],
   "source": [
    "fraudDatasets.isFraud.value_counts()"
   ]
  },
  {
   "cell_type": "code",
   "execution_count": 14,
   "id": "0695175d-7dab-45f2-8b21-a88501ed3967",
   "metadata": {},
   "outputs": [
    {
     "name": "stdout",
     "output_type": "stream",
     "text": [
      "<class 'pandas.core.frame.DataFrame'>\n",
      "Int64Index: 2217024 entries, 3 to 5090095\n",
      "Data columns (total 11 columns):\n",
      " #   Column          Dtype  \n",
      "---  ------          -----  \n",
      " 0   step            int64  \n",
      " 1   type            object \n",
      " 2   amount          float64\n",
      " 3   nameOrig        object \n",
      " 4   oldbalanceOrg   float64\n",
      " 5   newbalanceOrig  float64\n",
      " 6   nameDest        object \n",
      " 7   oldbalanceDest  float64\n",
      " 8   newbalanceDest  float64\n",
      " 9   isFlaggedFraud  int64  \n",
      " 10  isFraud         int64  \n",
      "dtypes: float64(5), int64(3), object(3)\n",
      "memory usage: 203.0+ MB\n"
     ]
    }
   ],
   "source": [
    "fraudDatasets.info(\"Dtype\")"
   ]
  },
  {
   "cell_type": "code",
   "execution_count": 15,
   "id": "c4f0831d-5078-4cdb-9161-0487bd2d3349",
   "metadata": {},
   "outputs": [
    {
     "data": {
      "text/plain": [
       "step                int64\n",
       "type               object\n",
       "amount            float64\n",
       "nameOrig           object\n",
       "oldbalanceOrg     float64\n",
       "newbalanceOrig    float64\n",
       "nameDest           object\n",
       "oldbalanceDest    float64\n",
       "newbalanceDest    float64\n",
       "isFlaggedFraud      int64\n",
       "isFraud             int64\n",
       "dtype: object"
      ]
     },
     "execution_count": 15,
     "metadata": {},
     "output_type": "execute_result"
    }
   ],
   "source": [
    "fraudDatasets.dtypes"
   ]
  },
  {
   "cell_type": "code",
   "execution_count": 16,
   "id": "aed30745-7746-4c39-a4db-d6dcc82b830f",
   "metadata": {},
   "outputs": [],
   "source": [
    "labelEncoderFeature = LabelEncoder()"
   ]
  },
  {
   "cell_type": "code",
   "execution_count": 17,
   "id": "1e712752-db26-434b-8584-11d44d010352",
   "metadata": {},
   "outputs": [],
   "source": [
    "replicaDatasets = pd.DataFrame.copy(fraudDatasets)"
   ]
  },
  {
   "cell_type": "code",
   "execution_count": 18,
   "id": "ff57b530-a0c3-4d44-978c-50b49314f78d",
   "metadata": {},
   "outputs": [
    {
     "data": {
      "text/html": [
       "<div>\n",
       "<style scoped>\n",
       "    .dataframe tbody tr th:only-of-type {\n",
       "        vertical-align: middle;\n",
       "    }\n",
       "\n",
       "    .dataframe tbody tr th {\n",
       "        vertical-align: top;\n",
       "    }\n",
       "\n",
       "    .dataframe thead th {\n",
       "        text-align: right;\n",
       "    }\n",
       "</style>\n",
       "<table border=\"1\" class=\"dataframe\">\n",
       "  <thead>\n",
       "    <tr style=\"text-align: right;\">\n",
       "      <th></th>\n",
       "      <th>step</th>\n",
       "      <th>type</th>\n",
       "      <th>amount</th>\n",
       "      <th>nameOrig</th>\n",
       "      <th>oldbalanceOrg</th>\n",
       "      <th>newbalanceOrig</th>\n",
       "      <th>nameDest</th>\n",
       "      <th>oldbalanceDest</th>\n",
       "      <th>newbalanceDest</th>\n",
       "      <th>isFlaggedFraud</th>\n",
       "      <th>isFraud</th>\n",
       "    </tr>\n",
       "  </thead>\n",
       "  <tbody>\n",
       "    <tr>\n",
       "      <th>3</th>\n",
       "      <td>180</td>\n",
       "      <td>CASH_OUT</td>\n",
       "      <td>527616.51</td>\n",
       "      <td>C61761046</td>\n",
       "      <td>180216.0</td>\n",
       "      <td>0.00</td>\n",
       "      <td>C577654587</td>\n",
       "      <td>92157.10</td>\n",
       "      <td>619773.61</td>\n",
       "      <td>0</td>\n",
       "      <td>0</td>\n",
       "    </tr>\n",
       "    <tr>\n",
       "      <th>4</th>\n",
       "      <td>36</td>\n",
       "      <td>TRANSFER</td>\n",
       "      <td>206067.85</td>\n",
       "      <td>C758004147</td>\n",
       "      <td>0.0</td>\n",
       "      <td>0.00</td>\n",
       "      <td>C2143015292</td>\n",
       "      <td>2131494.48</td>\n",
       "      <td>2337562.32</td>\n",
       "      <td>0</td>\n",
       "      <td>0</td>\n",
       "    </tr>\n",
       "    <tr>\n",
       "      <th>6</th>\n",
       "      <td>10</td>\n",
       "      <td>CASH_OUT</td>\n",
       "      <td>15241.42</td>\n",
       "      <td>C1606904496</td>\n",
       "      <td>45285.0</td>\n",
       "      <td>30043.58</td>\n",
       "      <td>C36437323</td>\n",
       "      <td>355775.87</td>\n",
       "      <td>652863.91</td>\n",
       "      <td>0</td>\n",
       "      <td>0</td>\n",
       "    </tr>\n",
       "    <tr>\n",
       "      <th>10</th>\n",
       "      <td>353</td>\n",
       "      <td>CASH_OUT</td>\n",
       "      <td>460159.75</td>\n",
       "      <td>C1847016170</td>\n",
       "      <td>0.0</td>\n",
       "      <td>0.00</td>\n",
       "      <td>C1970087686</td>\n",
       "      <td>1602337.92</td>\n",
       "      <td>2062497.67</td>\n",
       "      <td>0</td>\n",
       "      <td>0</td>\n",
       "    </tr>\n",
       "    <tr>\n",
       "      <th>11</th>\n",
       "      <td>185</td>\n",
       "      <td>CASH_OUT</td>\n",
       "      <td>39570.59</td>\n",
       "      <td>C1933638935</td>\n",
       "      <td>30591.0</td>\n",
       "      <td>0.00</td>\n",
       "      <td>C977120564</td>\n",
       "      <td>0.00</td>\n",
       "      <td>39570.59</td>\n",
       "      <td>0</td>\n",
       "      <td>0</td>\n",
       "    </tr>\n",
       "  </tbody>\n",
       "</table>\n",
       "</div>"
      ],
      "text/plain": [
       "    step      type     amount     nameOrig  oldbalanceOrg  newbalanceOrig  \\\n",
       "3    180  CASH_OUT  527616.51    C61761046       180216.0            0.00   \n",
       "4     36  TRANSFER  206067.85   C758004147            0.0            0.00   \n",
       "6     10  CASH_OUT   15241.42  C1606904496        45285.0        30043.58   \n",
       "10   353  CASH_OUT  460159.75  C1847016170            0.0            0.00   \n",
       "11   185  CASH_OUT   39570.59  C1933638935        30591.0            0.00   \n",
       "\n",
       "       nameDest  oldbalanceDest  newbalanceDest  isFlaggedFraud  isFraud  \n",
       "3    C577654587        92157.10       619773.61               0        0  \n",
       "4   C2143015292      2131494.48      2337562.32               0        0  \n",
       "6     C36437323       355775.87       652863.91               0        0  \n",
       "10  C1970087686      1602337.92      2062497.67               0        0  \n",
       "11   C977120564            0.00        39570.59               0        0  "
      ]
     },
     "execution_count": 18,
     "metadata": {},
     "output_type": "execute_result"
    }
   ],
   "source": [
    "replicaDatasets.head()"
   ]
  },
  {
   "cell_type": "code",
   "execution_count": 19,
   "id": "dfb7b523-1b5d-4433-bfa8-070b1d6dc42b",
   "metadata": {},
   "outputs": [],
   "source": [
    "replicaDatasets[\"type\"] = labelEncoderFeature.fit_transform(replicaDatasets[\"type\"])\n",
    "replicaDatasets[\"nameOrig\"] = labelEncoderFeature.fit_transform(replicaDatasets[\"nameOrig\"])\n",
    "replicaDatasets[\"nameDest\"] = labelEncoderFeature.fit_transform(replicaDatasets[\"nameDest\"])"
   ]
  },
  {
   "cell_type": "code",
   "execution_count": 20,
   "id": "c95b3502-3b2a-4073-8ca8-de9abe090934",
   "metadata": {},
   "outputs": [
    {
     "data": {
      "text/html": [
       "<div>\n",
       "<style scoped>\n",
       "    .dataframe tbody tr th:only-of-type {\n",
       "        vertical-align: middle;\n",
       "    }\n",
       "\n",
       "    .dataframe tbody tr th {\n",
       "        vertical-align: top;\n",
       "    }\n",
       "\n",
       "    .dataframe thead th {\n",
       "        text-align: right;\n",
       "    }\n",
       "</style>\n",
       "<table border=\"1\" class=\"dataframe\">\n",
       "  <thead>\n",
       "    <tr style=\"text-align: right;\">\n",
       "      <th></th>\n",
       "      <th>step</th>\n",
       "      <th>type</th>\n",
       "      <th>amount</th>\n",
       "      <th>nameOrig</th>\n",
       "      <th>oldbalanceOrg</th>\n",
       "      <th>newbalanceOrig</th>\n",
       "      <th>nameDest</th>\n",
       "      <th>oldbalanceDest</th>\n",
       "      <th>newbalanceDest</th>\n",
       "      <th>isFlaggedFraud</th>\n",
       "      <th>isFraud</th>\n",
       "    </tr>\n",
       "  </thead>\n",
       "  <tbody>\n",
       "    <tr>\n",
       "      <th>3</th>\n",
       "      <td>180</td>\n",
       "      <td>0</td>\n",
       "      <td>527616.51</td>\n",
       "      <td>1776784</td>\n",
       "      <td>180216.0</td>\n",
       "      <td>0.00</td>\n",
       "      <td>375185</td>\n",
       "      <td>92157.10</td>\n",
       "      <td>619773.61</td>\n",
       "      <td>0</td>\n",
       "      <td>0</td>\n",
       "    </tr>\n",
       "    <tr>\n",
       "      <th>4</th>\n",
       "      <td>36</td>\n",
       "      <td>1</td>\n",
       "      <td>206067.85</td>\n",
       "      <td>1937898</td>\n",
       "      <td>0.0</td>\n",
       "      <td>0.00</td>\n",
       "      <td>284025</td>\n",
       "      <td>2131494.48</td>\n",
       "      <td>2337562.32</td>\n",
       "      <td>0</td>\n",
       "      <td>0</td>\n",
       "    </tr>\n",
       "    <tr>\n",
       "      <th>6</th>\n",
       "      <td>10</td>\n",
       "      <td>0</td>\n",
       "      <td>15241.42</td>\n",
       "      <td>694725</td>\n",
       "      <td>45285.0</td>\n",
       "      <td>30043.58</td>\n",
       "      <td>322325</td>\n",
       "      <td>355775.87</td>\n",
       "      <td>652863.91</td>\n",
       "      <td>0</td>\n",
       "      <td>0</td>\n",
       "    </tr>\n",
       "    <tr>\n",
       "      <th>10</th>\n",
       "      <td>353</td>\n",
       "      <td>0</td>\n",
       "      <td>460159.75</td>\n",
       "      <td>970140</td>\n",
       "      <td>0.0</td>\n",
       "      <td>0.00</td>\n",
       "      <td>240819</td>\n",
       "      <td>1602337.92</td>\n",
       "      <td>2062497.67</td>\n",
       "      <td>0</td>\n",
       "      <td>0</td>\n",
       "    </tr>\n",
       "    <tr>\n",
       "      <th>11</th>\n",
       "      <td>185</td>\n",
       "      <td>0</td>\n",
       "      <td>39570.59</td>\n",
       "      <td>1069608</td>\n",
       "      <td>30591.0</td>\n",
       "      <td>0.00</td>\n",
       "      <td>474544</td>\n",
       "      <td>0.00</td>\n",
       "      <td>39570.59</td>\n",
       "      <td>0</td>\n",
       "      <td>0</td>\n",
       "    </tr>\n",
       "  </tbody>\n",
       "</table>\n",
       "</div>"
      ],
      "text/plain": [
       "    step  type     amount  nameOrig  oldbalanceOrg  newbalanceOrig  nameDest  \\\n",
       "3    180     0  527616.51   1776784       180216.0            0.00    375185   \n",
       "4     36     1  206067.85   1937898            0.0            0.00    284025   \n",
       "6     10     0   15241.42    694725        45285.0        30043.58    322325   \n",
       "10   353     0  460159.75    970140            0.0            0.00    240819   \n",
       "11   185     0   39570.59   1069608        30591.0            0.00    474544   \n",
       "\n",
       "    oldbalanceDest  newbalanceDest  isFlaggedFraud  isFraud  \n",
       "3         92157.10       619773.61               0        0  \n",
       "4       2131494.48      2337562.32               0        0  \n",
       "6        355775.87       652863.91               0        0  \n",
       "10      1602337.92      2062497.67               0        0  \n",
       "11            0.00        39570.59               0        0  "
      ]
     },
     "execution_count": 20,
     "metadata": {},
     "output_type": "execute_result"
    }
   ],
   "source": [
    "replicaDatasets.head()"
   ]
  },
  {
   "cell_type": "code",
   "execution_count": 21,
   "id": "802f4d16-6378-48fc-9b14-b2bdacde27bb",
   "metadata": {},
   "outputs": [
    {
     "data": {
      "text/plain": [
       "step              0\n",
       "type              0\n",
       "amount            0\n",
       "nameOrig          0\n",
       "oldbalanceOrg     0\n",
       "newbalanceOrig    0\n",
       "nameDest          0\n",
       "oldbalanceDest    0\n",
       "newbalanceDest    0\n",
       "isFlaggedFraud    0\n",
       "isFraud           0\n",
       "dtype: int64"
      ]
     },
     "execution_count": 21,
     "metadata": {},
     "output_type": "execute_result"
    }
   ],
   "source": [
    "replicaDatasets.isnull().sum()"
   ]
  },
  {
   "cell_type": "code",
   "execution_count": 22,
   "id": "e95fa3d9-3bf4-4b16-a4ca-f3924b9eaefa",
   "metadata": {},
   "outputs": [],
   "source": [
    "x = replicaDatasets.drop([\"isFlaggedFraud\", \"isFraud\"], axis=1)\n",
    "y = replicaDatasets.isFraud"
   ]
  },
  {
   "cell_type": "code",
   "execution_count": 23,
   "id": "f6473aa1-c027-487f-a6d0-6bb828dff7f4",
   "metadata": {},
   "outputs": [],
   "source": [
    "# datasets = pd.read_csv(\"Datasets/creditcard.csv\")\n",
    "# datasets.head()"
   ]
  },
  {
   "cell_type": "code",
   "execution_count": 24,
   "id": "ea9f6d3d-8926-4e0e-a8f8-d0017136bbd6",
   "metadata": {},
   "outputs": [],
   "source": [
    "pca_model = PCA(n_components=9)\n",
    "pca_model = pca_model.fit(x)\n",
    "pca = pca_model.transform(x)"
   ]
  },
  {
   "cell_type": "code",
   "execution_count": 25,
   "id": "1d70cccb-322e-4667-b354-a49aea686754",
   "metadata": {},
   "outputs": [],
   "source": [
    "components_feat_columns= [\"V\"+str(i+1) for i in range(pca.shape[1])]\n",
    "components_datasets  = pd.DataFrame(data = pca,\n",
    "                                   columns=components_feat_columns)"
   ]
  },
  {
   "cell_type": "code",
   "execution_count": 26,
   "id": "25d65cfa-3220-4190-9c31-21d66aa658e1",
   "metadata": {},
   "outputs": [
    {
     "data": {
      "text/plain": [
       "Index(['V1', 'V2', 'V3', 'V4', 'V5', 'V6', 'V7', 'V8', 'V9'], dtype='object')"
      ]
     },
     "execution_count": 26,
     "metadata": {},
     "output_type": "execute_result"
    }
   ],
   "source": [
    "components_datasets.columns"
   ]
  },
  {
   "cell_type": "code",
   "execution_count": 27,
   "id": "d83c3d56-35d7-4226-ae71-84e1b1cc16d4",
   "metadata": {},
   "outputs": [
    {
     "data": {
      "text/html": [
       "<div>\n",
       "<style scoped>\n",
       "    .dataframe tbody tr th:only-of-type {\n",
       "        vertical-align: middle;\n",
       "    }\n",
       "\n",
       "    .dataframe tbody tr th {\n",
       "        vertical-align: top;\n",
       "    }\n",
       "\n",
       "    .dataframe thead th {\n",
       "        text-align: right;\n",
       "    }\n",
       "</style>\n",
       "<table border=\"1\" class=\"dataframe\">\n",
       "  <thead>\n",
       "    <tr style=\"text-align: right;\">\n",
       "      <th></th>\n",
       "      <th>V1</th>\n",
       "      <th>V2</th>\n",
       "      <th>V3</th>\n",
       "      <th>V4</th>\n",
       "      <th>V5</th>\n",
       "      <th>V6</th>\n",
       "      <th>V7</th>\n",
       "      <th>V8</th>\n",
       "      <th>V9</th>\n",
       "    </tr>\n",
       "  </thead>\n",
       "  <tbody>\n",
       "    <tr>\n",
       "      <th>0</th>\n",
       "      <td>-2.120860e+06</td>\n",
       "      <td>415379.235429</td>\n",
       "      <td>668622.279378</td>\n",
       "      <td>100046.809463</td>\n",
       "      <td>53338.798423</td>\n",
       "      <td>-134953.488293</td>\n",
       "      <td>-70963.736918</td>\n",
       "      <td>-63.592865</td>\n",
       "      <td>0.219348</td>\n",
       "    </tr>\n",
       "    <tr>\n",
       "      <th>1</th>\n",
       "      <td>4.961676e+05</td>\n",
       "      <td>-189740.417195</td>\n",
       "      <td>830034.551952</td>\n",
       "      <td>-28523.086445</td>\n",
       "      <td>-35643.911301</td>\n",
       "      <td>-43755.838646</td>\n",
       "      <td>6562.583495</td>\n",
       "      <td>-205.817829</td>\n",
       "      <td>-0.822592</td>\n",
       "    </tr>\n",
       "    <tr>\n",
       "      <th>2</th>\n",
       "      <td>-1.950837e+06</td>\n",
       "      <td>-88336.417999</td>\n",
       "      <td>-413406.261842</td>\n",
       "      <td>-148991.155207</td>\n",
       "      <td>96442.994842</td>\n",
       "      <td>-82186.241888</td>\n",
       "      <td>5112.603739</td>\n",
       "      <td>-226.151067</td>\n",
       "      <td>0.137885</td>\n",
       "    </tr>\n",
       "    <tr>\n",
       "      <th>3</th>\n",
       "      <td>-4.591559e+04</td>\n",
       "      <td>162449.015347</td>\n",
       "      <td>-137853.919149</td>\n",
       "      <td>5398.452309</td>\n",
       "      <td>-65676.830162</td>\n",
       "      <td>-510.304572</td>\n",
       "      <td>12011.345683</td>\n",
       "      <td>110.164120</td>\n",
       "      <td>0.218114</td>\n",
       "    </tr>\n",
       "    <tr>\n",
       "      <th>4</th>\n",
       "      <td>-2.642077e+06</td>\n",
       "      <td>-140553.235861</td>\n",
       "      <td>-38502.768299</td>\n",
       "      <td>-33142.694490</td>\n",
       "      <td>-4772.447869</td>\n",
       "      <td>-234444.375916</td>\n",
       "      <td>-8459.330359</td>\n",
       "      <td>-53.866809</td>\n",
       "      <td>0.152314</td>\n",
       "    </tr>\n",
       "  </tbody>\n",
       "</table>\n",
       "</div>"
      ],
      "text/plain": [
       "             V1             V2             V3             V4            V5  \\\n",
       "0 -2.120860e+06  415379.235429  668622.279378  100046.809463  53338.798423   \n",
       "1  4.961676e+05 -189740.417195  830034.551952  -28523.086445 -35643.911301   \n",
       "2 -1.950837e+06  -88336.417999 -413406.261842 -148991.155207  96442.994842   \n",
       "3 -4.591559e+04  162449.015347 -137853.919149    5398.452309 -65676.830162   \n",
       "4 -2.642077e+06 -140553.235861  -38502.768299  -33142.694490  -4772.447869   \n",
       "\n",
       "              V6            V7          V8        V9  \n",
       "0 -134953.488293 -70963.736918  -63.592865  0.219348  \n",
       "1  -43755.838646   6562.583495 -205.817829 -0.822592  \n",
       "2  -82186.241888   5112.603739 -226.151067  0.137885  \n",
       "3    -510.304572  12011.345683  110.164120  0.218114  \n",
       "4 -234444.375916  -8459.330359  -53.866809  0.152314  "
      ]
     },
     "execution_count": 27,
     "metadata": {},
     "output_type": "execute_result"
    }
   ],
   "source": [
    "components_datasets.head()"
   ]
  },
  {
   "cell_type": "code",
   "execution_count": 28,
   "id": "2044bba2-5e6d-44ae-8fe5-bcb467d9fca0",
   "metadata": {},
   "outputs": [],
   "source": [
    "model_name = \"Datasets/componentsDatasets.sav\"\n",
    "pickle.dump(pca_model, open(model_name, 'wb'))"
   ]
  },
  {
   "cell_type": "code",
   "execution_count": 29,
   "id": "9022ab36-457f-443d-a049-1d2b184805ef",
   "metadata": {},
   "outputs": [],
   "source": [
    "model_loaded = pickle.load(open(model_name, 'rb'))"
   ]
  },
  {
   "cell_type": "code",
   "execution_count": 30,
   "id": "037308fb-fba5-4f8b-a543-8474bb6df0de",
   "metadata": {},
   "outputs": [
    {
     "data": {
      "text/html": [
       "<div>\n",
       "<style scoped>\n",
       "    .dataframe tbody tr th:only-of-type {\n",
       "        vertical-align: middle;\n",
       "    }\n",
       "\n",
       "    .dataframe tbody tr th {\n",
       "        vertical-align: top;\n",
       "    }\n",
       "\n",
       "    .dataframe thead th {\n",
       "        text-align: right;\n",
       "    }\n",
       "</style>\n",
       "<table border=\"1\" class=\"dataframe\">\n",
       "  <thead>\n",
       "    <tr style=\"text-align: right;\">\n",
       "      <th></th>\n",
       "      <th>V1</th>\n",
       "      <th>V2</th>\n",
       "      <th>V3</th>\n",
       "      <th>V4</th>\n",
       "      <th>V5</th>\n",
       "      <th>V6</th>\n",
       "      <th>V7</th>\n",
       "      <th>V8</th>\n",
       "      <th>V9</th>\n",
       "    </tr>\n",
       "  </thead>\n",
       "  <tbody>\n",
       "    <tr>\n",
       "      <th>0</th>\n",
       "      <td>-2.120860e+06</td>\n",
       "      <td>415379.235429</td>\n",
       "      <td>668622.279378</td>\n",
       "      <td>100046.809463</td>\n",
       "      <td>53338.798423</td>\n",
       "      <td>-134953.488293</td>\n",
       "      <td>-70963.736918</td>\n",
       "      <td>-63.592865</td>\n",
       "      <td>0.219348</td>\n",
       "    </tr>\n",
       "    <tr>\n",
       "      <th>1</th>\n",
       "      <td>4.961676e+05</td>\n",
       "      <td>-189740.417195</td>\n",
       "      <td>830034.551952</td>\n",
       "      <td>-28523.086445</td>\n",
       "      <td>-35643.911301</td>\n",
       "      <td>-43755.838646</td>\n",
       "      <td>6562.583495</td>\n",
       "      <td>-205.817829</td>\n",
       "      <td>-0.822592</td>\n",
       "    </tr>\n",
       "    <tr>\n",
       "      <th>2</th>\n",
       "      <td>-1.950837e+06</td>\n",
       "      <td>-88336.417999</td>\n",
       "      <td>-413406.261842</td>\n",
       "      <td>-148991.155207</td>\n",
       "      <td>96442.994842</td>\n",
       "      <td>-82186.241888</td>\n",
       "      <td>5112.603739</td>\n",
       "      <td>-226.151067</td>\n",
       "      <td>0.137885</td>\n",
       "    </tr>\n",
       "    <tr>\n",
       "      <th>3</th>\n",
       "      <td>-4.591559e+04</td>\n",
       "      <td>162449.015347</td>\n",
       "      <td>-137853.919149</td>\n",
       "      <td>5398.452309</td>\n",
       "      <td>-65676.830162</td>\n",
       "      <td>-510.304572</td>\n",
       "      <td>12011.345683</td>\n",
       "      <td>110.164120</td>\n",
       "      <td>0.218114</td>\n",
       "    </tr>\n",
       "    <tr>\n",
       "      <th>4</th>\n",
       "      <td>-2.642077e+06</td>\n",
       "      <td>-140553.235861</td>\n",
       "      <td>-38502.768299</td>\n",
       "      <td>-33142.694490</td>\n",
       "      <td>-4772.447869</td>\n",
       "      <td>-234444.375916</td>\n",
       "      <td>-8459.330359</td>\n",
       "      <td>-53.866809</td>\n",
       "      <td>0.152314</td>\n",
       "    </tr>\n",
       "  </tbody>\n",
       "</table>\n",
       "</div>"
      ],
      "text/plain": [
       "             V1             V2             V3             V4            V5  \\\n",
       "0 -2.120860e+06  415379.235429  668622.279378  100046.809463  53338.798423   \n",
       "1  4.961676e+05 -189740.417195  830034.551952  -28523.086445 -35643.911301   \n",
       "2 -1.950837e+06  -88336.417999 -413406.261842 -148991.155207  96442.994842   \n",
       "3 -4.591559e+04  162449.015347 -137853.919149    5398.452309 -65676.830162   \n",
       "4 -2.642077e+06 -140553.235861  -38502.768299  -33142.694490  -4772.447869   \n",
       "\n",
       "              V6            V7          V8        V9  \n",
       "0 -134953.488293 -70963.736918  -63.592865  0.219348  \n",
       "1  -43755.838646   6562.583495 -205.817829 -0.822592  \n",
       "2  -82186.241888   5112.603739 -226.151067  0.137885  \n",
       "3    -510.304572  12011.345683  110.164120  0.218114  \n",
       "4 -234444.375916  -8459.330359  -53.866809  0.152314  "
      ]
     },
     "execution_count": 30,
     "metadata": {},
     "output_type": "execute_result"
    }
   ],
   "source": [
    "components_datasets.head()"
   ]
  },
  {
   "cell_type": "code",
   "execution_count": 31,
   "id": "e98f32d8-d578-429d-bbea-077084203563",
   "metadata": {},
   "outputs": [],
   "source": [
    "components_datasets.reset_index(drop=True, inplace=True)\n",
    "y.reset_index(drop=True, inplace=True)\n",
    "finalComponentsDatasets = pd.concat([components_datasets, y], axis=1)"
   ]
  },
  {
   "cell_type": "code",
   "execution_count": 32,
   "id": "e01c3f13-29c3-4ce5-9b24-7e42255e836b",
   "metadata": {},
   "outputs": [
    {
     "data": {
      "text/html": [
       "<div>\n",
       "<style scoped>\n",
       "    .dataframe tbody tr th:only-of-type {\n",
       "        vertical-align: middle;\n",
       "    }\n",
       "\n",
       "    .dataframe tbody tr th {\n",
       "        vertical-align: top;\n",
       "    }\n",
       "\n",
       "    .dataframe thead th {\n",
       "        text-align: right;\n",
       "    }\n",
       "</style>\n",
       "<table border=\"1\" class=\"dataframe\">\n",
       "  <thead>\n",
       "    <tr style=\"text-align: right;\">\n",
       "      <th></th>\n",
       "      <th>V1</th>\n",
       "      <th>V2</th>\n",
       "      <th>V3</th>\n",
       "      <th>V4</th>\n",
       "      <th>V5</th>\n",
       "      <th>V6</th>\n",
       "      <th>V7</th>\n",
       "      <th>V8</th>\n",
       "      <th>V9</th>\n",
       "      <th>isFraud</th>\n",
       "    </tr>\n",
       "  </thead>\n",
       "  <tbody>\n",
       "    <tr>\n",
       "      <th>0</th>\n",
       "      <td>-2.120860e+06</td>\n",
       "      <td>415379.235429</td>\n",
       "      <td>668622.279378</td>\n",
       "      <td>100046.809463</td>\n",
       "      <td>53338.798423</td>\n",
       "      <td>-134953.488293</td>\n",
       "      <td>-70963.736918</td>\n",
       "      <td>-63.592865</td>\n",
       "      <td>0.219348</td>\n",
       "      <td>0</td>\n",
       "    </tr>\n",
       "    <tr>\n",
       "      <th>1</th>\n",
       "      <td>4.961676e+05</td>\n",
       "      <td>-189740.417195</td>\n",
       "      <td>830034.551952</td>\n",
       "      <td>-28523.086445</td>\n",
       "      <td>-35643.911301</td>\n",
       "      <td>-43755.838646</td>\n",
       "      <td>6562.583495</td>\n",
       "      <td>-205.817829</td>\n",
       "      <td>-0.822592</td>\n",
       "      <td>0</td>\n",
       "    </tr>\n",
       "    <tr>\n",
       "      <th>2</th>\n",
       "      <td>-1.950837e+06</td>\n",
       "      <td>-88336.417999</td>\n",
       "      <td>-413406.261842</td>\n",
       "      <td>-148991.155207</td>\n",
       "      <td>96442.994842</td>\n",
       "      <td>-82186.241888</td>\n",
       "      <td>5112.603739</td>\n",
       "      <td>-226.151067</td>\n",
       "      <td>0.137885</td>\n",
       "      <td>0</td>\n",
       "    </tr>\n",
       "    <tr>\n",
       "      <th>3</th>\n",
       "      <td>-4.591559e+04</td>\n",
       "      <td>162449.015347</td>\n",
       "      <td>-137853.919149</td>\n",
       "      <td>5398.452309</td>\n",
       "      <td>-65676.830162</td>\n",
       "      <td>-510.304572</td>\n",
       "      <td>12011.345683</td>\n",
       "      <td>110.164120</td>\n",
       "      <td>0.218114</td>\n",
       "      <td>0</td>\n",
       "    </tr>\n",
       "    <tr>\n",
       "      <th>4</th>\n",
       "      <td>-2.642077e+06</td>\n",
       "      <td>-140553.235861</td>\n",
       "      <td>-38502.768299</td>\n",
       "      <td>-33142.694490</td>\n",
       "      <td>-4772.447869</td>\n",
       "      <td>-234444.375916</td>\n",
       "      <td>-8459.330359</td>\n",
       "      <td>-53.866809</td>\n",
       "      <td>0.152314</td>\n",
       "      <td>0</td>\n",
       "    </tr>\n",
       "  </tbody>\n",
       "</table>\n",
       "</div>"
      ],
      "text/plain": [
       "             V1             V2             V3             V4            V5  \\\n",
       "0 -2.120860e+06  415379.235429  668622.279378  100046.809463  53338.798423   \n",
       "1  4.961676e+05 -189740.417195  830034.551952  -28523.086445 -35643.911301   \n",
       "2 -1.950837e+06  -88336.417999 -413406.261842 -148991.155207  96442.994842   \n",
       "3 -4.591559e+04  162449.015347 -137853.919149    5398.452309 -65676.830162   \n",
       "4 -2.642077e+06 -140553.235861  -38502.768299  -33142.694490  -4772.447869   \n",
       "\n",
       "              V6            V7          V8        V9  isFraud  \n",
       "0 -134953.488293 -70963.736918  -63.592865  0.219348        0  \n",
       "1  -43755.838646   6562.583495 -205.817829 -0.822592        0  \n",
       "2  -82186.241888   5112.603739 -226.151067  0.137885        0  \n",
       "3    -510.304572  12011.345683  110.164120  0.218114        0  \n",
       "4 -234444.375916  -8459.330359  -53.866809  0.152314        0  "
      ]
     },
     "execution_count": 32,
     "metadata": {},
     "output_type": "execute_result"
    }
   ],
   "source": [
    "finalComponentsDatasets.head()"
   ]
  },
  {
   "cell_type": "code",
   "execution_count": 33,
   "id": "32ccca45-58f2-4fef-ad0b-1007de7a79a1",
   "metadata": {},
   "outputs": [
    {
     "data": {
      "text/plain": [
       "0    2210431\n",
       "1       6593\n",
       "Name: isFraud, dtype: int64"
      ]
     },
     "execution_count": 33,
     "metadata": {},
     "output_type": "execute_result"
    }
   ],
   "source": [
    "finalComponentsDatasets.isFraud.value_counts()"
   ]
  },
  {
   "cell_type": "code",
   "execution_count": 34,
   "id": "42fb2abd-a0d6-4405-a12c-a42f197f0e46",
   "metadata": {},
   "outputs": [
    {
     "name": "stdout",
     "output_type": "stream",
     "text": [
      "Shape of the Components Datasets is: (2217024, 9)\n",
      "Shape of the Y Datasets is: (2217024,)\n",
      "Shape of the final Components Datasets is: (2217024, 10)\n"
     ]
    }
   ],
   "source": [
    "print(\"Shape of the Components Datasets is: {}\".format(components_datasets.shape))\n",
    "print(\"Shape of the Y Datasets is: {}\".format(y.shape))\n",
    "print(\"Shape of the final Components Datasets is: {}\".format(finalComponentsDatasets.shape))"
   ]
  },
  {
   "cell_type": "code",
   "execution_count": 35,
   "id": "33559ed2-5c7b-4cf8-b130-205156665d2f",
   "metadata": {},
   "outputs": [],
   "source": [
    "x_train, x_test, y_train, y_test = train_test_split(x, y, \n",
    "                                                   test_size=0.2, \n",
    "                                                   random_state=42)"
   ]
  },
  {
   "cell_type": "code",
   "execution_count": 36,
   "id": "f05768cf-42e9-4480-a79d-4b7cda48344b",
   "metadata": {},
   "outputs": [
    {
     "data": {
      "text/plain": [
       "RandomForestClassifier(n_estimators=20)"
      ]
     },
     "execution_count": 36,
     "metadata": {},
     "output_type": "execute_result"
    }
   ],
   "source": [
    "randomForestModel = RandomForestClassifier(n_estimators=20)\n",
    "randomForestModel.fit(x_train, y_train)"
   ]
  },
  {
   "cell_type": "code",
   "execution_count": 37,
   "id": "21edd420-3934-49ae-ae48-35f4b26e10e5",
   "metadata": {},
   "outputs": [],
   "source": [
    "randomForestModelPredict = randomForestModel.predict(x_test)"
   ]
  },
  {
   "cell_type": "code",
   "execution_count": 38,
   "id": "f66dfb35-48a5-452c-8385-ef3c8fcb8026",
   "metadata": {},
   "outputs": [
    {
     "name": "stdout",
     "output_type": "stream",
     "text": [
      "The accuracy_score Score is : 1.0%\n",
      "The precision_score Score is : 0.98%\n",
      "The f1_score Score is : 0.87%\n",
      "The recall_score Score is : 0.78%\n"
     ]
    }
   ],
   "source": [
    "print(\"The accuracy_score Score is : {}%\".format(round(accuracy_score(y_test, randomForestModelPredict), 2)))\n",
    "print(\"The precision_score Score is : {}%\".format(round(precision_score(y_test, randomForestModelPredict), 2)))\n",
    "print(\"The f1_score Score is : {}%\".format(round(f1_score(y_test, randomForestModelPredict),2)))\n",
    "print(\"The recall_score Score is : {}%\".format(round(recall_score(y_test, randomForestModelPredict), 2)))"
   ]
  },
  {
   "cell_type": "code",
   "execution_count": 47,
   "id": "f9a99785-78d9-4edd-b64e-88f28343f98c",
   "metadata": {},
   "outputs": [],
   "source": [
    "def classIdentify(predicted):\n",
    "    if predicted == 1:\n",
    "        return \"Fraud\"\n",
    "    else:\n",
    "        return \"Real\""
   ]
  },
  {
   "cell_type": "code",
   "execution_count": 54,
   "id": "2bee0892-c166-4055-9d5b-720d0c925958",
   "metadata": {},
   "outputs": [
    {
     "data": {
      "text/plain": [
       "array([0, 1])"
      ]
     },
     "execution_count": 54,
     "metadata": {},
     "output_type": "execute_result"
    }
   ],
   "source": [
    "np.unique(randomForestModelPredict)"
   ]
  },
  {
   "cell_type": "code",
   "execution_count": 50,
   "id": "0f66d90a-a1f9-4429-b222-63ff96cd6a30",
   "metadata": {},
   "outputs": [
    {
     "data": {
      "text/plain": [
       "'Fraud'"
      ]
     },
     "execution_count": 50,
     "metadata": {},
     "output_type": "execute_result"
    }
   ],
   "source": [
    "classIdentify(np.max(randomForestModelPredict))"
   ]
  },
  {
   "cell_type": "code",
   "execution_count": 53,
   "id": "550265b0-ef96-4eae-ab17-709429d69946",
   "metadata": {},
   "outputs": [
    {
     "data": {
      "text/plain": [
       "96"
      ]
     },
     "execution_count": 53,
     "metadata": {},
     "output_type": "execute_result"
    }
   ],
   "source": [
    "list(randomForestModelPredict).index(1)"
   ]
  },
  {
   "cell_type": "code",
   "execution_count": null,
   "id": "6ed0da3b-ae9e-4e57-a90d-904b9f827904",
   "metadata": {},
   "outputs": [],
   "source": []
  }
 ],
 "metadata": {
  "kernelspec": {
   "display_name": "Python 3 (ipykernel)",
   "language": "python",
   "name": "python3"
  },
  "language_info": {
   "codemirror_mode": {
    "name": "ipython",
    "version": 3
   },
   "file_extension": ".py",
   "mimetype": "text/x-python",
   "name": "python",
   "nbconvert_exporter": "python",
   "pygments_lexer": "ipython3",
   "version": "3.7.13"
  }
 },
 "nbformat": 4,
 "nbformat_minor": 5
}
